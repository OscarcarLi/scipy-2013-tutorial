{
 "cells": [
  {
   "cell_type": "markdown",
   "id": "733deb85",
   "metadata": {},
   "source": [
    "# Advanced Expression Manipulation"
   ]
  },
  {
   "cell_type": "code",
   "execution_count": null,
   "id": "09e8cf91",
   "metadata": {
    "collapsed": false,
    "jupyter": {
     "outputs_hidden": false
    }
   },
   "outputs": [],
   "source": [
    "import sys\n",
    "import os\n",
    "sys.path.insert(1, os.path.join(os.path.pardir, \"ipython_doctester\"))\n",
    "from sympy import *\n",
    "from ipython_doctester import test\n",
    "x, y, z = symbols('x y z')"
   ]
  },
  {
   "cell_type": "markdown",
   "id": "349c580b",
   "metadata": {},
   "source": [
    "For each exercise, fill in the function according to its docstring. Execute the cell to see if you did it right. "
   ]
  },
  {
   "cell_type": "markdown",
   "id": "b2e80351",
   "metadata": {},
   "source": [
    "## Creating expressions from classes"
   ]
  },
  {
   "cell_type": "markdown",
   "id": "3680f9fe",
   "metadata": {},
   "source": [
    "Create the following objects without using any mathematical operators like `+`, `-`, `*`, `/`, or `**` by explicitly using the classes `Add`, `Mul`, and `Pow`.  You may use `x` instead of `Symbol('x')` and `4` instead of `Integer(4)`.\n",
    "\n",
    "$$x^2 + 4xyz$$\n",
    "$$x^{(x^y)}$$\n",
    "$$x - \\frac{y}{z}$$\n"
   ]
  },
  {
   "cell_type": "code",
   "execution_count": null,
   "id": "01f4f46c",
   "metadata": {
    "collapsed": false,
    "jupyter": {
     "outputs_hidden": false
    }
   },
   "outputs": [],
   "source": [
    "@test\n",
    "def explicit_classes1():\n",
    "    \"\"\"\n",
    "    Returns the expression x**2 + 4*x*y*z, built using SymPy classes explicitly.\n",
    "\n",
    "    >>> explicit_classes1()\n",
    "    x**2 + 4*x*y*z\n",
    "    \"\"\"\n"
   ]
  },
  {
   "cell_type": "code",
   "execution_count": null,
   "id": "35dcda6a",
   "metadata": {
    "collapsed": false,
    "jupyter": {
     "outputs_hidden": false
    }
   },
   "outputs": [],
   "source": [
    "@test\n",
    "def explicit_classes2():\n",
    "    \"\"\"\n",
    "    Returns the expression x**(x**y), built using SymPy classes explicitly.\n",
    "\n",
    "    >>> explicit_classes2()\n",
    "    x**(x**y)\n",
    "    \"\"\"\n"
   ]
  },
  {
   "cell_type": "code",
   "execution_count": null,
   "id": "19fa82a5",
   "metadata": {
    "collapsed": false,
    "jupyter": {
     "outputs_hidden": false
    }
   },
   "outputs": [],
   "source": [
    "@test\n",
    "def explicit_classes3():\n",
    "    \"\"\"\n",
    "    Returns the expression x - y/z, built using SymPy classes explicitly.\n",
    "\n",
    "    >>> explicit_classes3()\n",
    "    x - y/z\n",
    "    \"\"\"\n"
   ]
  },
  {
   "cell_type": "markdown",
   "id": "ede0f240",
   "metadata": {},
   "source": [
    "## Nested args"
   ]
  },
  {
   "cell_type": "code",
   "execution_count": null,
   "id": "4f2a62c4",
   "metadata": {
    "collapsed": false,
    "jupyter": {
     "outputs_hidden": false
    }
   },
   "outputs": [],
   "source": [
    "expr = x**2 - y*(2**(x + 3) + z)"
   ]
  },
  {
   "cell_type": "markdown",
   "id": "8b4bcc60",
   "metadata": {},
   "source": [
    "Use nested `.args` calls to get the 3 in expr."
   ]
  },
  {
   "cell_type": "code",
   "execution_count": null,
   "id": "e9f2ce35",
   "metadata": {
    "collapsed": false,
    "jupyter": {
     "outputs_hidden": false
    }
   },
   "outputs": [],
   "source": [
    "@test\n",
    "def nested_args():\n",
    "    \"\"\"\n",
    "    Get the 3 in the above expression.\n",
    "\n",
    "    >>> nested_args()\n",
    "    3\n",
    "    \"\"\"\n"
   ]
  },
  {
   "cell_type": "markdown",
   "id": "ac11fef3",
   "metadata": {},
   "source": [
    "## Traversal "
   ]
  },
  {
   "cell_type": "markdown",
   "id": "ef211a9f",
   "metadata": {},
   "source": [
    "Write a post-order traversal function that prints each node."
   ]
  },
  {
   "cell_type": "code",
   "execution_count": null,
   "id": "f147af0d",
   "metadata": {
    "collapsed": false,
    "jupyter": {
     "outputs_hidden": false
    }
   },
   "outputs": [],
   "source": [
    "@test\n",
    "def post(expr):\n",
    "    \"\"\"\n",
    "    Post-order traversal\n",
    "\n",
    "    >>> expr = x**2 - y*(2**(x + 3) + z)\n",
    "    >>> post(expr)\n",
    "    -1\n",
    "    y\n",
    "    2\n",
    "    3\n",
    "    x\n",
    "    x + 3\n",
    "    2**(x + 3)\n",
    "    z\n",
    "    2**(x + 3) + z\n",
    "    -y*(2**(x + 3) + z)\n",
    "    x\n",
    "    2\n",
    "    x**2\n",
    "    x**2 - y*(2**(x + 3) + z)\n",
    "    \"\"\"\n"
   ]
  },
  {
   "cell_type": "code",
   "execution_count": null,
   "id": "0346f391",
   "metadata": {
    "collapsed": false,
    "jupyter": {
     "outputs_hidden": false
    }
   },
   "outputs": [],
   "source": [
    "for i in postorder_traversal(expr):\n",
    "    print i"
   ]
  }
 ],
 "metadata": {
  "kernelspec": {
   "display_name": "Python 3 (ipykernel)",
   "language": "python",
   "name": "python3"
  },
  "language_info": {
   "codemirror_mode": {
    "name": "ipython",
    "version": 3
   },
   "file_extension": ".py",
   "mimetype": "text/x-python",
   "name": "python",
   "nbconvert_exporter": "python",
   "pygments_lexer": "ipython3",
   "version": "3.9.13"
  }
 },
 "nbformat": 4,
 "nbformat_minor": 5
}
