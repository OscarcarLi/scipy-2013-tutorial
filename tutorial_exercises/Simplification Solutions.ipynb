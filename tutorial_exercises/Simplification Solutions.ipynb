{
 "cells": [
  {
   "cell_type": "markdown",
   "id": "e9e497d6",
   "metadata": {},
   "source": [
    "# Simplification Solutions"
   ]
  },
  {
   "cell_type": "markdown",
   "id": "f73dfd87",
   "metadata": {},
   "source": [
    "Boilerplate to make the doctester work."
   ]
  },
  {
   "cell_type": "code",
   "execution_count": 68,
   "id": "74368d46",
   "metadata": {
    "collapsed": false,
    "jupyter": {
     "outputs_hidden": false
    }
   },
   "outputs": [],
   "source": [
    "import sys\n",
    "import os\n",
    "sys.path.insert(1, os.path.join(os.path.pardir, \"ipython_doctester\"))\n",
    "from sympy import *\n",
    "from ipython_doctester import test\n",
    "x, y, z = symbols('x y z')"
   ]
  },
  {
   "cell_type": "markdown",
   "id": "f9f7a6d5",
   "metadata": {},
   "source": [
    "For each exercise, fill in the function according to its docstring. Execute the cell to see if you did it right. "
   ]
  },
  {
   "cell_type": "markdown",
   "id": "ff51df69",
   "metadata": {},
   "source": [
    "## Polynomial/Rational Function Simplification"
   ]
  },
  {
   "cell_type": "markdown",
   "id": "ae603208",
   "metadata": {},
   "source": [
    "In each exercise, apply specific simplification functions to get the desired result."
   ]
  },
  {
   "cell_type": "code",
   "execution_count": 69,
   "id": "26c7e51d",
   "metadata": {
    "collapsed": false,
    "jupyter": {
     "outputs_hidden": false
    }
   },
   "outputs": [
    {
     "data": {
      "text/html": [
       "\n",
       "      <p style=\"color:green;font-size:250%;font-weight=bold\">Success!</p>\n",
       "      "
      ]
     },
     "metadata": {},
     "output_type": "display_data"
    }
   ],
   "source": [
    "@test\n",
    "def polysimp1(expr):\n",
    "    \"\"\"\n",
    "    >>> polysimp1(cos(x)*sin(x) + cos(x))\n",
    "    (sin(x) + 1)*cos(x)\n",
    "    >>> polysimp1(cos(x)*sin(x) + cos(x) + 1)\n",
    "    (sin(x) + 1)*cos(x) + 1\n",
    "    \"\"\"\n",
    "    return collect(expr, cos(x))"
   ]
  },
  {
   "cell_type": "code",
   "execution_count": 70,
   "id": "3530b15c",
   "metadata": {
    "collapsed": false,
    "jupyter": {
     "outputs_hidden": false
    }
   },
   "outputs": [
    {
     "data": {
      "text/html": [
       "\n",
       "      <p style=\"color:green;font-size:250%;font-weight=bold\">Success!</p>\n",
       "      "
      ]
     },
     "metadata": {},
     "output_type": "display_data"
    }
   ],
   "source": [
    "@test\n",
    "def polysimp2(expr):\n",
    "    \"\"\"\n",
    "    >>> polysimp2((2*x + 1)/(x**2 + x))\n",
    "    1/(x + 1) + 1/x\n",
    "    >>> polysimp2((x**2 + 3*x + 1)/(x**3 + 2*x**2 + x))\n",
    "    1/(x**2 + 2*x + 1) + 1/x\n",
    "    \"\"\"\n",
    "    return expand(apart(expr))"
   ]
  },
  {
   "cell_type": "markdown",
   "id": "86c2eeb0",
   "metadata": {},
   "source": [
    "## Powers"
   ]
  },
  {
   "cell_type": "markdown",
   "id": "13dced1a",
   "metadata": {},
   "source": [
    "In each exercise, apply specific simplification functions to get the desired result. "
   ]
  },
  {
   "cell_type": "code",
   "execution_count": 71,
   "id": "f49a4365",
   "metadata": {
    "collapsed": false,
    "jupyter": {
     "outputs_hidden": false
    }
   },
   "outputs": [
    {
     "data": {
      "text/html": [
       "\n",
       "      <p style=\"color:green;font-size:250%;font-weight=bold\">Success!</p>\n",
       "      "
      ]
     },
     "metadata": {},
     "output_type": "display_data"
    }
   ],
   "source": [
    "@test\n",
    "def powersimp1(expr):\n",
    "    \"\"\"\n",
    "    >>> powersimp1(exp(x)*(exp(y) + 1))\n",
    "    exp(x) + exp(x + y)\n",
    "    \"\"\"\n",
    "    return powsimp(expand(expr))"
   ]
  },
  {
   "cell_type": "code",
   "execution_count": 72,
   "id": "5b99edbd",
   "metadata": {
    "collapsed": false,
    "jupyter": {
     "outputs_hidden": false
    }
   },
   "outputs": [
    {
     "data": {
      "text/html": [
       "\n",
       "      <p style=\"color:green;font-size:250%;font-weight=bold\">Success!</p>\n",
       "      "
      ]
     },
     "metadata": {},
     "output_type": "display_data"
    }
   ],
   "source": [
    "@test\n",
    "def powersimp2(expr):\n",
    "    \"\"\"\n",
    "    >>> powersimp2(2**x*x**x)\n",
    "    (2*x)**x\n",
    "    >>> powersimp2(x**x*x**x)\n",
    "    (x**2)**x\n",
    "    \"\"\"\n",
    "    return powsimp(expr, force=True)"
   ]
  },
  {
   "cell_type": "code",
   "execution_count": 73,
   "id": "84ae7a73",
   "metadata": {
    "collapsed": false,
    "jupyter": {
     "outputs_hidden": false
    }
   },
   "outputs": [
    {
     "data": {
      "text/html": [
       "\n",
       "      <p style=\"color:green;font-size:250%;font-weight=bold\">Success!</p>\n",
       "      "
      ]
     },
     "metadata": {},
     "output_type": "display_data"
    }
   ],
   "source": [
    "@test\n",
    "def powersimp3(expr):\n",
    "    \"\"\"\n",
    "    >>> a, b, c = symbols('a b c')\n",
    "    >>> powersimp3((a**b)**c)\n",
    "    a**(b*c)\n",
    "    >>> powersimp3((a**b)**(c + 1))\n",
    "    a**(b*c + b)\n",
    "    \"\"\"\n",
    "    return powdenest(expand_power_exp(expr), force=True)"
   ]
  },
  {
   "cell_type": "markdown",
   "id": "469d26c4",
   "metadata": {},
   "source": [
    "## Logs"
   ]
  },
  {
   "cell_type": "code",
   "execution_count": 74,
   "id": "bd677510",
   "metadata": {
    "collapsed": false,
    "jupyter": {
     "outputs_hidden": false
    }
   },
   "outputs": [
    {
     "data": {
      "text/html": [
       "\n",
       "      <p style=\"color:green;font-size:250%;font-weight=bold\">Success!</p>\n",
       "      "
      ]
     },
     "metadata": {},
     "output_type": "display_data"
    }
   ],
   "source": [
    "@test\n",
    "def logsimp1(expr):\n",
    "    \"\"\"\n",
    "    >>> a, b = symbols('a b', positive=True)\n",
    "    >>> logsimp1(log(x**y*a**b))\n",
    "    y*log(x) + log(a**b)\n",
    "    >>> logsimp1(log(x*y*a*b))\n",
    "    log(x) + log(y) + log(a*b)\n",
    "    \"\"\"\n",
    "    return logcombine(expand_log(expr, force=True))"
   ]
  },
  {
   "cell_type": "markdown",
   "id": "88813490",
   "metadata": {},
   "source": [
    "## Miscellaneous  "
   ]
  },
  {
   "cell_type": "code",
   "execution_count": 75,
   "id": "f1e426a1",
   "metadata": {
    "collapsed": false,
    "jupyter": {
     "outputs_hidden": false
    }
   },
   "outputs": [
    {
     "data": {
      "text/html": [
       "\n",
       "      <p style=\"color:green;font-size:250%;font-weight=bold\">Success!</p>\n",
       "      "
      ]
     },
     "metadata": {},
     "output_type": "display_data"
    }
   ],
   "source": [
    "@test\n",
    "def miscsimp1(expr):\n",
    "    \"\"\"\n",
    "    >>> miscsimp1(sin(x + y))\n",
    "    2*(-tan(x/2)**2 + 1)*tan(y/2)/((tan(x/2)**2 + 1)*(tan(y/2)**2 + 1)) + 2*(-tan(y/2)**2 + 1)*tan(x/2)/((tan(x/2)**2 + 1)*(tan(y/2)**2 + 1))\n",
    "    \"\"\"\n",
    "    return expand_trig(expr).rewrite(tan)"
   ]
  },
  {
   "cell_type": "code",
   "execution_count": 66,
   "id": "8dfb5c3a",
   "metadata": {
    "collapsed": false,
    "jupyter": {
     "outputs_hidden": false
    }
   },
   "outputs": [
    {
     "data": {
      "text/html": [
       "\n",
       "      <p style=\"color:green;font-size:250%;font-weight=bold\">Success!</p>\n",
       "      "
      ]
     },
     "metadata": {},
     "output_type": "display_data"
    }
   ],
   "source": [
    "@test\n",
    "def miscsimp2(expr):\n",
    "    \"\"\"\n",
    "    >>> miscsimp2(gamma(x + 4))\n",
    "    x**4*gamma(x) + 6*x**3*gamma(x) + 11*x**2*gamma(x) + 6*x*gamma(x)\n",
    "    \"\"\"\n",
    "    return expand(expand_func(expr))"
   ]
  },
  {
   "cell_type": "markdown",
   "id": "01f523c2",
   "metadata": {},
   "source": [
    "## Continued Fractions"
   ]
  },
  {
   "cell_type": "code",
   "execution_count": 77,
   "id": "4f461202",
   "metadata": {
    "collapsed": false,
    "jupyter": {
     "outputs_hidden": false
    }
   },
   "outputs": [],
   "source": [
    "def list_to_frac(l):\n",
    "    expr = Integer(0)\n",
    "    for i in reversed(l[1:]):\n",
    "        expr += i\n",
    "        expr = 1/expr\n",
    "    return l[0] + expr"
   ]
  },
  {
   "cell_type": "code",
   "execution_count": 78,
   "id": "82c49a0b",
   "metadata": {
    "collapsed": false,
    "jupyter": {
     "outputs_hidden": false
    }
   },
   "outputs": [],
   "source": [
    "a0, a1, a2, a3, a4 = symbols('a0:5')"
   ]
  },
  {
   "cell_type": "markdown",
   "id": "74599453",
   "metadata": {},
   "source": [
    "Determine the list used to create the continued fraction $$\\frac{a_{0} a_{1} a_{2} a_{3} a_{4} + a_{0} a_{1} a_{2} + a_{0} a_{3} a_{4} + a_{0} + a_{1} a_{2} a_{3} + a_{1} a_{3} a_{4} + a_{1} + a_{3}}{a_{0} a_{1} a_{2} a_{4} + a_{0} a_{4} + a_{1} a_{2} + a_{1} a_{4} + 1}.$$"
   ]
  },
  {
   "cell_type": "code",
   "execution_count": 88,
   "id": "a8b156c1",
   "metadata": {
    "collapsed": false,
    "jupyter": {
     "outputs_hidden": false
    }
   },
   "outputs": [
    {
     "data": {
      "text/html": [
       "\n",
       "      <p style=\"color:green;font-size:250%;font-weight=bold\">Success!</p>\n",
       "      "
      ]
     },
     "metadata": {},
     "output_type": "display_data"
    }
   ],
   "source": [
    "@test\n",
    "def continued_frac():\n",
    "    \"\"\"\n",
    "    Determine the original list used to create the fraction.  \n",
    "\n",
    "    Return the original list from this function.\n",
    "\n",
    "    >>> orig_frac = (a0*a1*a2*a3*a4 + a0*a1*a2 + a0*a3*a4 + a0 + a1*a2*a3 + a1*a3*a4 + a1 + a3)/(a0*a1*a2*a4 + a0*a4 + a1*a2 + a1*a4 + 1)\n",
    "    >>> pprint(orig_frac, use_unicode=False, wrap_line=False)\n",
    "    a0*a1*a2*a3*a4 + a0*a1*a2 + a0*a3*a4 + a0 + a1*a2*a3 + a1*a3*a4 + a1 + a3\n",
    "    -------------------------------------------------------------------------\n",
    "                     a0*a1*a2*a4 + a0*a4 + a1*a2 + a1*a4 + 1                 \n",
    "    >>> cancel(list_to_frac(continued_frac())) == orig_frac\n",
    "    True\n",
    "    \"\"\"\n",
    "    return [a3, a4, a0, a2, a1]"
   ]
  },
  {
   "cell_type": "code",
   "execution_count": null,
   "id": "2c8a0cb4",
   "metadata": {
    "collapsed": false,
    "jupyter": {
     "outputs_hidden": false
    }
   },
   "outputs": [],
   "source": []
  }
 ],
 "metadata": {
  "kernelspec": {
   "display_name": "Python 3 (ipykernel)",
   "language": "python",
   "name": "python3"
  },
  "language_info": {
   "codemirror_mode": {
    "name": "ipython",
    "version": 3
   },
   "file_extension": ".py",
   "mimetype": "text/x-python",
   "name": "python",
   "nbconvert_exporter": "python",
   "pygments_lexer": "ipython3",
   "version": "3.9.13"
  }
 },
 "nbformat": 4,
 "nbformat_minor": 5
}
