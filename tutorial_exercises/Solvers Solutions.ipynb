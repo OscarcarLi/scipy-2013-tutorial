{
 "cells": [
  {
   "cell_type": "markdown",
   "id": "37c838a4",
   "metadata": {},
   "source": [
    "# Solvers"
   ]
  },
  {
   "cell_type": "markdown",
   "id": "bcaf9de1",
   "metadata": {},
   "source": [
    "Boilerplate to make the doctester work. "
   ]
  },
  {
   "cell_type": "code",
   "execution_count": 2,
   "id": "0ccca431",
   "metadata": {
    "collapsed": false,
    "jupyter": {
     "outputs_hidden": false
    }
   },
   "outputs": [],
   "source": [
    "import sys\n",
    "import os\n",
    "sys.path.insert(1, os.path.join(os.path.pardir, \"ipython_doctester\"))\n",
    "from sympy import *\n",
    "from ipython_doctester import test\n",
    "# Work around a bug in IPython. This will disable the ability to paste things with >>>\n",
    "def notransform(line): return line\n",
    "from IPython.core import inputsplitter\n",
    "inputsplitter.transform_classic_prompt = notransform\n",
    "init_printing()"
   ]
  },
  {
   "cell_type": "markdown",
   "id": "c87649b3",
   "metadata": {},
   "source": [
    "For each exercise, fill in the function according to its docstring. Execute the cell to see if you did it right. "
   ]
  },
  {
   "cell_type": "code",
   "execution_count": 3,
   "id": "0667e20a",
   "metadata": {
    "collapsed": false,
    "jupyter": {
     "outputs_hidden": false
    }
   },
   "outputs": [],
   "source": [
    "a, b, c, d, x, y, z, t = symbols('a b c d x y z t')\n",
    "f, g, h = symbols('f g h', cls=Function)"
   ]
  },
  {
   "cell_type": "markdown",
   "id": "e3d75f5d",
   "metadata": {},
   "source": [
    "## Algebraic Equations"
   ]
  },
  {
   "cell_type": "markdown",
   "id": "08d39718",
   "metadata": {},
   "source": [
    "Write a function that computes the [quadratic equation](http://en.wikipedia.org/wiki/Quadratic_equation)."
   ]
  },
  {
   "cell_type": "code",
   "execution_count": 5,
   "id": "199dfcc4",
   "metadata": {
    "collapsed": false,
    "jupyter": {
     "outputs_hidden": false
    }
   },
   "outputs": [
    {
     "data": {
      "text/latex": [
       "$$\\begin{bmatrix}\\frac{- b + \\sqrt{- 4 a c + b^{2}}}{2 a}, & - \\frac{b + \\sqrt{- 4 a c + b^{2}}}{2 a}\\end{bmatrix}$$"
      ],
      "text/plain": [
       "⎡        _____________   ⎛       _____________⎞⎤\n",
       "⎢       ╱           2    ⎜      ╱           2 ⎟⎥\n",
       "⎢-b + ╲╱  -4⋅a⋅c + b    -⎝b + ╲╱  -4⋅a⋅c + b  ⎠⎥\n",
       "⎢─────────────────────, ───────────────────────⎥\n",
       "⎣         2⋅a                     2⋅a          ⎦"
      ]
     },
     "execution_count": 5,
     "metadata": {},
     "output_type": "execute_result"
    }
   ],
   "source": [
    "def quadratic():\n",
    "    return solve(a*x**2 + b*x + c, x)\n",
    "quadratic()"
   ]
  },
  {
   "cell_type": "markdown",
   "id": "d09c9d98",
   "metadata": {},
   "source": [
    "Write a function that computes the general solution to the cubic $x^3 + ax^2 + bx + c$."
   ]
  },
  {
   "cell_type": "code",
   "execution_count": 6,
   "id": "b7eb2949",
   "metadata": {
    "collapsed": false,
    "jupyter": {
     "outputs_hidden": false
    }
   },
   "outputs": [
    {
     "data": {
      "text/latex": [
       "$$\\begin{bmatrix}- \\frac{1}{3} a + \\frac{- \\frac{1}{9} a^{2} + \\frac{1}{3} b}{\\sqrt[3]{\\frac{1}{27} a^{3} - \\frac{1}{6} a b + \\frac{1}{2} c + \\sqrt{\\left(- \\frac{1}{9} a^{2} + \\frac{1}{3} b\\right)^{3} + \\frac{1}{4} \\left(\\frac{2}{27} a^{3} - \\frac{1}{3} a b + c\\right)^{2}}}} - \\sqrt[3]{\\frac{1}{27} a^{3} - \\frac{1}{6} a b + \\frac{1}{2} c + \\sqrt{\\left(- \\frac{1}{9} a^{2} + \\frac{1}{3} b\\right)^{3} + \\frac{1}{4} \\left(\\frac{2}{27} a^{3} - \\frac{1}{3} a b + c\\right)^{2}}}, & - \\frac{1}{3} a + \\frac{- \\frac{1}{9} a^{2} + \\frac{1}{3} b}{\\left(- \\frac{1}{2} - \\frac{1}{2} \\sqrt{3} \\mathbf{\\imath}\\right) \\sqrt[3]{\\frac{1}{27} a^{3} - \\frac{1}{6} a b + \\frac{1}{2} c + \\sqrt{\\left(- \\frac{1}{9} a^{2} + \\frac{1}{3} b\\right)^{3} + \\frac{1}{4} \\left(\\frac{2}{27} a^{3} - \\frac{1}{3} a b + c\\right)^{2}}}} - \\left(- \\frac{1}{2} - \\frac{1}{2} \\sqrt{3} \\mathbf{\\imath}\\right) \\sqrt[3]{\\frac{1}{27} a^{3} - \\frac{1}{6} a b + \\frac{1}{2} c + \\sqrt{\\left(- \\frac{1}{9} a^{2} + \\frac{1}{3} b\\right)^{3} + \\frac{1}{4} \\left(\\frac{2}{27} a^{3} - \\frac{1}{3} a b + c\\right)^{2}}}, & - \\frac{1}{3} a + \\frac{- \\frac{1}{9} a^{2} + \\frac{1}{3} b}{\\left(- \\frac{1}{2} + \\frac{1}{2} \\sqrt{3} \\mathbf{\\imath}\\right) \\sqrt[3]{\\frac{1}{27} a^{3} - \\frac{1}{6} a b + \\frac{1}{2} c + \\sqrt{\\left(- \\frac{1}{9} a^{2} + \\frac{1}{3} b\\right)^{3} + \\frac{1}{4} \\left(\\frac{2}{27} a^{3} - \\frac{1}{3} a b + c\\right)^{2}}}} - \\left(- \\frac{1}{2} + \\frac{1}{2} \\sqrt{3} \\mathbf{\\imath}\\right) \\sqrt[3]{\\frac{1}{27} a^{3} - \\frac{1}{6} a b + \\frac{1}{2} c + \\sqrt{\\left(- \\frac{1}{9} a^{2} + \\frac{1}{3} b\\right)^{3} + \\frac{1}{4} \\left(\\frac{2}{27} a^{3} - \\frac{1}{3} a b + c\\right)^{2}}}\\end{bmatrix}$$"
      ],
      "text/plain": [
       "⎡                                                                             \n",
       "⎢                                                                             \n",
       "⎢                                                                             \n",
       "⎢                                       2                                     \n",
       "⎢                                      a    b                                 \n",
       "⎢                                    - ── + ─                                 \n",
       "⎢  a                                   9    3                                 \n",
       "⎢- ─ + ─────────────────────────────────────────────────────────────────── - 3\n",
       "⎢  3            __________________________________________________________   ╲\n",
       "⎢              ╱                        _________________________________     \n",
       "⎢             ╱                        ╱                               2      \n",
       "⎢            ╱                        ╱                ⎛   3          ⎞       \n",
       "⎢           ╱                        ╱             3   ⎜2⋅a    a⋅b    ⎟       \n",
       "⎢          ╱      3                 ╱    ⎛   2    ⎞    ⎜──── - ─── + c⎟       \n",
       "⎢         ╱      a    a⋅b   c      ╱     ⎜  a    b⎟    ⎝ 27     3     ⎠       \n",
       "⎢      3 ╱       ── - ─── + ─ +   ╱      ⎜- ── + ─⎟  + ─────────────────      \n",
       "⎣      ╲╱        27    6    2   ╲╱       ⎝  9    3⎠            4              \n",
       "\n",
       "        __________________________________________________________            \n",
       "       ╱                        _________________________________             \n",
       "      ╱                        ╱                               2              \n",
       "     ╱                        ╱                ⎛   3          ⎞               \n",
       "    ╱                        ╱             3   ⎜2⋅a    a⋅b    ⎟               \n",
       "   ╱      3                 ╱    ⎛   2    ⎞    ⎜──── - ─── + c⎟               \n",
       "  ╱      a    a⋅b   c      ╱     ⎜  a    b⎟    ⎝ 27     3     ⎠       a       \n",
       " ╱       ── - ─── + ─ +   ╱      ⎜- ── + ─⎟  + ─────────────────  , - ─ + ────\n",
       "╱        27    6    2   ╲╱       ⎝  9    3⎠            4              3       \n",
       "                                                                              \n",
       "                                                                              \n",
       "                                                                              \n",
       "                                                                              \n",
       "                                                                          ⎛   \n",
       "                                                                          ⎜  1\n",
       "                                                                          ⎜- ─\n",
       "                                                                          ⎝  2\n",
       "\n",
       "                                                                              \n",
       "                                                                              \n",
       "                                                                              \n",
       "                                     2                                        \n",
       "                                    a    b                                    \n",
       "                                  - ── + ─                                    \n",
       "                                    9    3                                    \n",
       "──────────────────────────────────────────────────────────────────────────────\n",
       "                     _________________________________________________________\n",
       "                    ╱                        _________________________________\n",
       "                   ╱                        ╱                               2 \n",
       "                  ╱                        ╱                ⎛   3          ⎞  \n",
       "                 ╱                        ╱             3   ⎜2⋅a    a⋅b    ⎟  \n",
       "     ___  ⎞     ╱      3                 ╱    ⎛   2    ⎞    ⎜──── - ─── + c⎟  \n",
       "   ╲╱ 3 ⋅ⅈ⎟    ╱      a    a⋅b   c      ╱     ⎜  a    b⎟    ⎝ 27     3     ⎠  \n",
       " - ───────⎟⋅3 ╱       ── - ─── + ─ +   ╱      ⎜- ── + ─⎟  + ───────────────── \n",
       "      2   ⎠ ╲╱        27    6    2   ╲╱       ⎝  9    3⎠            4         \n",
       "\n",
       "                             _________________________________________________\n",
       "                            ╱                        _________________________\n",
       "                           ╱                        ╱                         \n",
       "                          ╱                        ╱                ⎛   3     \n",
       "                         ╱                        ╱             3   ⎜2⋅a    a⋅\n",
       "    ⎛        ___  ⎞     ╱      3                 ╱    ⎛   2    ⎞    ⎜──── - ──\n",
       "    ⎜  1   ╲╱ 3 ⋅ⅈ⎟    ╱      a    a⋅b   c      ╱     ⎜  a    b⎟    ⎝ 27     3\n",
       "─ - ⎜- ─ - ───────⎟⋅3 ╱       ── - ─── + ─ +   ╱      ⎜- ── + ─⎟  + ──────────\n",
       "_   ⎝  2      2   ⎠ ╲╱        27    6    2   ╲╱       ⎝  9    3⎠            4 \n",
       "                                                                              \n",
       "                                                                              \n",
       "                                                                              \n",
       "                                                                              \n",
       "                                                                              \n",
       "                                                                              \n",
       "                                                                              \n",
       "                                                                              \n",
       "\n",
       "_________                                                                     \n",
       "________                                                                      \n",
       "      2                                                                       \n",
       "     ⎞                                                    2                   \n",
       "b    ⎟                                                   a    b               \n",
       "─ + c⎟                                                 - ── + ─               \n",
       "     ⎠       a                                           9    3               \n",
       "───────  , - ─ + ─────────────────────────────────────────────────────────────\n",
       "             3                            ____________________________________\n",
       "                                         ╱                        ____________\n",
       "                                        ╱                        ╱            \n",
       "                                       ╱                        ╱             \n",
       "                                      ╱                        ╱             3\n",
       "                 ⎛        ___  ⎞     ╱      3                 ╱    ⎛   2    ⎞ \n",
       "                 ⎜  1   ╲╱ 3 ⋅ⅈ⎟    ╱      a    a⋅b   c      ╱     ⎜  a    b⎟ \n",
       "                 ⎜- ─ + ───────⎟⋅3 ╱       ── - ─── + ─ +   ╱      ⎜- ── + ─⎟ \n",
       "                 ⎝  2      2   ⎠ ╲╱        27    6    2   ╲╱       ⎝  9    3⎠ \n",
       "\n",
       "                                                  ____________________________\n",
       "                                                 ╱                        ____\n",
       "                                                ╱                        ╱    \n",
       "                                               ╱                        ╱     \n",
       "                                              ╱                        ╱      \n",
       "                         ⎛        ___  ⎞     ╱      3                 ╱    ⎛  \n",
       "                         ⎜  1   ╲╱ 3 ⋅ⅈ⎟    ╱      a    a⋅b   c      ╱     ⎜  \n",
       "────────────────────── - ⎜- ─ + ───────⎟⋅3 ╱       ── - ─── + ─ +   ╱      ⎜- \n",
       "______________________   ⎝  2      2   ⎠ ╲╱        27    6    2   ╲╱       ⎝  \n",
       "_____________________                                                         \n",
       "                   2                                                          \n",
       "   ⎛   3          ⎞                                                           \n",
       "   ⎜2⋅a    a⋅b    ⎟                                                           \n",
       "   ⎜──── - ─── + c⎟                                                           \n",
       "   ⎝ 27     3     ⎠                                                           \n",
       " + ─────────────────                                                          \n",
       "           4                                                                  \n",
       "\n",
       "______________________________⎤\n",
       "_____________________________ ⎥\n",
       "                           2  ⎥\n",
       "           ⎛   3          ⎞   ⎥\n",
       "       3   ⎜2⋅a    a⋅b    ⎟   ⎥\n",
       " 2    ⎞    ⎜──── - ─── + c⎟   ⎥\n",
       "a    b⎟    ⎝ 27     3     ⎠   ⎥\n",
       "── + ─⎟  + ─────────────────  ⎥\n",
       "9    3⎠            4          ⎥\n",
       "                              ⎥\n",
       "                              ⎥\n",
       "                              ⎥\n",
       "                              ⎥\n",
       "                              ⎥\n",
       "                              ⎥\n",
       "                              ⎥\n",
       "                              ⎦"
      ]
     },
     "execution_count": 6,
     "metadata": {},
     "output_type": "execute_result"
    }
   ],
   "source": [
    "def cubic():\n",
    "    return solve(x**3 + a*x**2 + b*x + c, x)\n",
    "cubic()"
   ]
  },
  {
   "cell_type": "markdown",
   "id": "90894d88",
   "metadata": {},
   "source": [
    "## Differential Equations"
   ]
  },
  {
   "cell_type": "markdown",
   "id": "85bf93a6",
   "metadata": {},
   "source": [
    "A population that grows without bound is modeled by the differential equation\n",
    "\n",
    "$$f'(t)=af(t)$$\n",
    "\n",
    "Solve this differential equation using SymPy."
   ]
  },
  {
   "cell_type": "code",
   "execution_count": 7,
   "id": "a919fa1a",
   "metadata": {
    "collapsed": false,
    "jupyter": {
     "outputs_hidden": false
    }
   },
   "outputs": [
    {
     "data": {
      "image/png": "[encoded data removed]",
      "text/latex": [
       "$$\\operatorname{f}{\\left (t \\right )} = C_{1} e^{a t}$$"
      ],
      "text/plain": [
       "           a⋅t\n",
       "f(t) = C₁⋅ℯ   "
      ]
     },
     "execution_count": 7,
     "metadata": {},
     "output_type": "execute_result"
    }
   ],
   "source": [
    "dsolve(f(t).diff(t) - a*f(t), f(t))"
   ]
  },
  {
   "cell_type": "markdown",
   "id": "cd551921",
   "metadata": {},
   "source": [
    "If the population growth is bounded, it is modeled by \n",
    "\n",
    "$$f'(t) = f(t)(1 - f(t))$$"
   ]
  },
  {
   "cell_type": "code",
   "execution_count": 8,
   "id": "afeba57d",
   "metadata": {
    "collapsed": false,
    "jupyter": {
     "outputs_hidden": false
    }
   },
   "outputs": [
    {
     "data": {
      "image/png": "[encoded data removed]",
      "text/latex": [
       "$$\\log{\\left (\\operatorname{f}{\\left (t \\right )} -1 \\right )} - \\log{\\left (\\operatorname{f}{\\left (t \\right )} \\right )} = C_{1} - t$$"
      ],
      "text/plain": [
       "log(f(t) - 1) - log(f(t)) = C₁ - t"
      ]
     },
     "execution_count": 8,
     "metadata": {},
     "output_type": "execute_result"
    }
   ],
   "source": [
    "dsolve(f(t).diff(t) - f(t)*(1 - f(t)), f(t))"
   ]
  }
 ],
 "metadata": {
  "kernelspec": {
   "display_name": "Python 3 (ipykernel)",
   "language": "python",
   "name": "python3"
  },
  "language_info": {
   "codemirror_mode": {
    "name": "ipython",
    "version": 3
   },
   "file_extension": ".py",
   "mimetype": "text/x-python",
   "name": "python",
   "nbconvert_exporter": "python",
   "pygments_lexer": "ipython3",
   "version": "3.9.13"
  }
 },
 "nbformat": 4,
 "nbformat_minor": 5
}
