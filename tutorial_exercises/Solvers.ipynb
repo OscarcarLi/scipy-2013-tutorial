{
 "cells": [
  {
   "cell_type": "markdown",
   "id": "b892118e",
   "metadata": {},
   "source": [
    "# Solvers"
   ]
  },
  {
   "cell_type": "markdown",
   "id": "7cdfb50f",
   "metadata": {},
   "source": [
    "Boilerplate to make the doctester work. "
   ]
  },
  {
   "cell_type": "code",
   "execution_count": 8,
   "id": "0b3660ef",
   "metadata": {
    "collapsed": false,
    "jupyter": {
     "outputs_hidden": false
    }
   },
   "outputs": [],
   "source": [
    "import sys\n",
    "import os\n",
    "sys.path.insert(1, os.path.join(os.path.pardir, \"ipython_doctester\"))\n",
    "from sympy import *\n",
    "from ipython_doctester import test\n",
    "# Work around a bug in IPython. This will disable the ability to paste things with >>>\n",
    "def notransform(line): return line\n",
    "from IPython.core import inputsplitter\n",
    "inputsplitter.transform_classic_prompt = notransform\n",
    "init_printing()"
   ]
  },
  {
   "cell_type": "markdown",
   "id": "e2fbb19e",
   "metadata": {},
   "source": [
    "For each exercise, fill in the function according to its docstring. Execute the cell to see if you did it right. "
   ]
  },
  {
   "cell_type": "code",
   "execution_count": 9,
   "id": "15d44840",
   "metadata": {
    "collapsed": false,
    "jupyter": {
     "outputs_hidden": false
    }
   },
   "outputs": [],
   "source": [
    "a, b, c, d, x, y, z, t = symbols('a b c d x y z t')\n",
    "f, g, h = symbols('f g h', cls=Function)"
   ]
  },
  {
   "cell_type": "markdown",
   "id": "6f880d3e",
   "metadata": {},
   "source": [
    "## Algebraic Equations"
   ]
  },
  {
   "cell_type": "markdown",
   "id": "802b6cda",
   "metadata": {},
   "source": [
    "Write a function that computes the [quadratic equation](http://en.wikipedia.org/wiki/Quadratic_equation)."
   ]
  },
  {
   "cell_type": "code",
   "execution_count": 7,
   "id": "058bc26b",
   "metadata": {
    "collapsed": false,
    "jupyter": {
     "outputs_hidden": false
    }
   },
   "outputs": [
    {
     "ename": "SyntaxError",
     "evalue": "invalid syntax (<ipython-input-7-99cd274c3f68>, line 2)",
     "output_type": "error",
     "traceback": [
      "\u001b[0;36m  File \u001b[0;32m\"<ipython-input-7-99cd274c3f68>\"\u001b[0;36m, line \u001b[0;32m2\u001b[0m\n\u001b[0;31m    return ???\u001b[0m\n\u001b[0m           ^\u001b[0m\n\u001b[0;31mSyntaxError\u001b[0m\u001b[0;31m:\u001b[0m invalid syntax\n"
     ]
    }
   ],
   "source": [
    "def quadratic():\n",
    "    return ???\n",
    "quadratic()"
   ]
  },
  {
   "cell_type": "markdown",
   "id": "b031ea25",
   "metadata": {},
   "source": [
    "Write a function that computes the general solution to the cubic $x^3 + ax^2 + bx + c$."
   ]
  },
  {
   "cell_type": "code",
   "execution_count": 10,
   "id": "66b14482",
   "metadata": {
    "collapsed": false,
    "jupyter": {
     "outputs_hidden": false
    }
   },
   "outputs": [
    {
     "ename": "SyntaxError",
     "evalue": "invalid syntax (<ipython-input-10-258b5a2454f9>, line 2)",
     "output_type": "error",
     "traceback": [
      "\u001b[0;36m  File \u001b[0;32m\"<ipython-input-10-258b5a2454f9>\"\u001b[0;36m, line \u001b[0;32m2\u001b[0m\n\u001b[0;31m    return ???\u001b[0m\n\u001b[0m           ^\u001b[0m\n\u001b[0;31mSyntaxError\u001b[0m\u001b[0;31m:\u001b[0m invalid syntax\n"
     ]
    }
   ],
   "source": [
    "def cubic():\n",
    "    return ???\n",
    "cubic()"
   ]
  },
  {
   "cell_type": "markdown",
   "id": "de62f237",
   "metadata": {},
   "source": [
    "## Differential Equations"
   ]
  },
  {
   "cell_type": "markdown",
   "id": "d76d8364",
   "metadata": {},
   "source": [
    "A population that grows without bound is modeled by the differential equation\n",
    "\n",
    "$$f'(t)=af(t)$$\n",
    "\n",
    "Solve this differential equation using SymPy."
   ]
  },
  {
   "cell_type": "code",
   "execution_count": 7,
   "id": "7d31a08d",
   "metadata": {
    "collapsed": false,
    "jupyter": {
     "outputs_hidden": false
    }
   },
   "outputs": [],
   "source": []
  },
  {
   "cell_type": "markdown",
   "id": "b822de13",
   "metadata": {},
   "source": [
    "If the population growth is bounded, it is modeled by \n",
    "\n",
    "$$f'(t) = f(t)(1 - f(t))$$"
   ]
  },
  {
   "cell_type": "code",
   "execution_count": 7,
   "id": "a35dcd40",
   "metadata": {
    "collapsed": false,
    "jupyter": {
     "outputs_hidden": false
    }
   },
   "outputs": [],
   "source": []
  }
 ],
 "metadata": {
  "kernelspec": {
   "display_name": "Python 3 (ipykernel)",
   "language": "python",
   "name": "python3"
  },
  "language_info": {
   "codemirror_mode": {
    "name": "ipython",
    "version": 3
   },
   "file_extension": ".py",
   "mimetype": "text/x-python",
   "name": "python",
   "nbconvert_exporter": "python",
   "pygments_lexer": "ipython3",
   "version": "3.9.13"
  }
 },
 "nbformat": 4,
 "nbformat_minor": 5
}
